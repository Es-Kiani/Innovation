{
 "cells": [
  {
   "cell_type": "code",
   "execution_count": 2,
   "id": "e193da44-8878-4bf2-b715-4b5c641f8573",
   "metadata": {},
   "outputs": [],
   "source": [
    "DATASET_FILE_PATH = \"D:/Innovation/Dataset/AUDCAD_Candlestick_1_Hour_BID_2006-03-20_2025-03-25.csv\""
   ]
  },
  {
   "cell_type": "code",
   "execution_count": 3,
   "id": "9a0cc74f-043c-4abb-b874-b5459f7da33e",
   "metadata": {},
   "outputs": [],
   "source": [
    "SAVE_FILE_PATH = \"D:/Innovation/Dataset/AUDCAD_Dataset.csv\""
   ]
  },
  {
   "cell_type": "code",
   "execution_count": 5,
   "id": "b9998e63-c997-4941-ac5a-52b51eaa90ea",
   "metadata": {},
   "outputs": [
    {
     "name": "stderr",
     "output_type": "stream",
     "text": [
      "C:\\Users\\Stephen\\AppData\\Local\\Temp\\ipykernel_14592\\3307934934.py:8: UserWarning: Parsing dates in %d.%m.%Y %H:%M:%S.%f format when dayfirst=False (the default) was specified. Pass `dayfirst=True` or specify a format to silence this warning.\n",
      "  df['Gmt time'] = pd.to_datetime(df['Gmt time'])\n"
     ]
    },
    {
     "name": "stdout",
     "output_type": "stream",
     "text": [
      "Enhanced dataset saved to: D:/Innovation/Dataset/AUDCAD_Dataset.csv\n"
     ]
    }
   ],
   "source": [
    "import pandas as pd\n",
    "import numpy as np\n",
    "\n",
    "# Read the dataset (adjust the path if necessary)\n",
    "df = pd.read_csv(DATASET_FILE_PATH)\n",
    "\n",
    "# Convert 'Gmt time' to datetime and split into separate date and time columns\n",
    "df['Gmt time'] = pd.to_datetime(df['Gmt time'])\n",
    "df['date'] = df['Gmt time'].dt.date\n",
    "df['time'] = df['Gmt time'].dt.time\n",
    "\n",
    "# Optionally, drop the original 'Gmt time' column\n",
    "df = df.drop(columns=['Gmt time'])\n",
    "\n",
    "# --- RSI14 Calculation ---\n",
    "# Assumes the existence of a 'Close' column.\n",
    "delta = df['Close'].diff()\n",
    "gain = delta.clip(lower=0)\n",
    "loss = -delta.clip(upper=0)\n",
    "\n",
    "# Calculate rolling means for gains and losses over 14 periods\n",
    "avg_gain = gain.rolling(window=14, min_periods=14).mean()\n",
    "avg_loss = loss.rolling(window=14, min_periods=14).mean()\n",
    "\n",
    "rs = avg_gain / avg_loss\n",
    "df['rsi14'] = 100 - (100 / (1 + rs))\n",
    "\n",
    "# --- SMA Calculations ---\n",
    "df['sma20'] = df['Close'].rolling(window=20, min_periods=20).mean()\n",
    "df['sma50'] = df['Close'].rolling(window=50, min_periods=50).mean()\n",
    "df['sma200'] = df['Close'].rolling(window=200, min_periods=200).mean()\n",
    "\n",
    "# --- ADX Calculation ---\n",
    "# Assumes the existence of 'High', 'Low', and 'Close' columns.\n",
    "period = 14\n",
    "\n",
    "# Calculate True Range (TR)\n",
    "df['H-L'] = df['High'] - df['Low']\n",
    "df['H-PC'] = (df['High'] - df['Close'].shift(1)).abs()\n",
    "df['L-PC'] = (df['Low'] - df['Close'].shift(1)).abs()\n",
    "df['TR'] = df[['H-L', 'H-PC', 'L-PC']].max(axis=1)\n",
    "\n",
    "# Calculate directional movements\n",
    "df['up_move'] = df['High'] - df['High'].shift(1)\n",
    "df['down_move'] = df['Low'].shift(1) - df['Low']\n",
    "\n",
    "df['+DM'] = np.where((df['up_move'] > df['down_move']) & (df['up_move'] > 0), df['up_move'], 0)\n",
    "df['-DM'] = np.where((df['down_move'] > df['up_move']) & (df['down_move'] > 0), df['down_move'], 0)\n",
    "\n",
    "# Smooth the TR and DM values by summing over the period\n",
    "df['TR14'] = df['TR'].rolling(window=period, min_periods=period).sum()\n",
    "df['+DM14'] = df['+DM'].rolling(window=period, min_periods=period).sum()\n",
    "df['-DM14'] = df['-DM'].rolling(window=period, min_periods=period).sum()\n",
    "\n",
    "# Calculate the directional indicators\n",
    "df['+DI14'] = 100 * (df['+DM14'] / df['TR14'])\n",
    "df['-DI14'] = 100 * (df['-DM14'] / df['TR14'])\n",
    "\n",
    "# Compute DX and then ADX\n",
    "df['DX'] = 100 * (abs(df['+DI14'] - df['-DI14']) / (df['+DI14'] + df['-DI14']))\n",
    "df['ADX'] = df['DX'].rolling(window=period, min_periods=period).mean()\n",
    "\n",
    "# Drop intermediate columns used for ADX calculation\n",
    "df.drop(columns=['H-L', 'H-PC', 'L-PC', 'TR', 'up_move', 'down_move', '+DM', '-DM',\n",
    "                 'TR14', '+DM14', '-DM14', '+DI14', '-DI14', 'DX'], inplace=True)\n",
    "\n",
    "# --- CCI Calculation ---\n",
    "# Using a period of 20\n",
    "cci_period = 20\n",
    "df['Typical Price'] = (df['High'] + df['Low'] + df['Close']) / 3\n",
    "df['SMA_TP'] = df['Typical Price'].rolling(window=cci_period, min_periods=cci_period).mean()\n",
    "df['Mean Deviation'] = df['Typical Price'].rolling(window=cci_period, min_periods=cci_period)\\\n",
    "    .apply(lambda x: np.mean(np.abs(x - np.mean(x))), raw=True)\n",
    "df['CCI'] = (df['Typical Price'] - df['SMA_TP']) / (0.015 * df['Mean Deviation'])\n",
    "\n",
    "# Drop intermediate columns for CCI\n",
    "df.drop(columns=['Typical Price', 'SMA_TP', 'Mean Deviation'], inplace=True)\n",
    "\n",
    "# --- MACD Calculation ---\n",
    "# MACD = EMA(12) - EMA(26)\n",
    "ema12 = df['Close'].ewm(span=12, adjust=False).mean()\n",
    "ema26 = df['Close'].ewm(span=26, adjust=False).mean()\n",
    "df['MACD'] = ema12 - ema26\n",
    "\n",
    "# --- Drop null rows ---\n",
    "df.dropna(inplace=True)\n",
    "\n",
    "# --- Reorder columns: place 'date' and 'time' as the first columns ---\n",
    "cols = df.columns.tolist()\n",
    "new_order = ['date', 'time'] + [col for col in cols if col not in ['date', 'time']]\n",
    "df = df[new_order]\n",
    "\n",
    "# --- Save the enhanced dataset ---\n",
    "output_file = SAVE_FILE_PATH\n",
    "df.to_csv(output_file, index=False)\n",
    "\n",
    "print(\"Enhanced dataset saved to:\", output_file)\n"
   ]
  },
  {
   "cell_type": "code",
   "execution_count": null,
   "id": "b98b64ec-ecc8-42d6-ac3e-b9524e7c6b14",
   "metadata": {},
   "outputs": [],
   "source": []
  }
 ],
 "metadata": {
  "kernelspec": {
   "display_name": "Python 3 (ipykernel)",
   "language": "python",
   "name": "python3"
  },
  "language_info": {
   "codemirror_mode": {
    "name": "ipython",
    "version": 3
   },
   "file_extension": ".py",
   "mimetype": "text/x-python",
   "name": "python",
   "nbconvert_exporter": "python",
   "pygments_lexer": "ipython3",
   "version": "3.12.8"
  }
 },
 "nbformat": 4,
 "nbformat_minor": 5
}
